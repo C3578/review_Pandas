{
  "nbformat": 4,
  "nbformat_minor": 0,
  "metadata": {
    "colab": {
      "name": "review_Pandas",
      "provenance": [],
      "collapsed_sections": [],
      "authorship_tag": "ABX9TyMKxl2iZybRElU3wa2YfAIb",
      "include_colab_link": true
    },
    "kernelspec": {
      "name": "python3",
      "display_name": "Python 3"
    }
  },
  "cells": [
    {
      "cell_type": "markdown",
      "metadata": {
        "id": "view-in-github",
        "colab_type": "text"
      },
      "source": [
        "<a href=\"https://colab.research.google.com/github/C3578/review_pandas/blob/master/review_Pandas.ipynb\" target=\"_parent\"><img src=\"https://colab.research.google.com/assets/colab-badge.svg\" alt=\"Open In Colab\"/></a>"
      ]
    },
    {
      "cell_type": "markdown",
      "metadata": {
        "id": "PF3MheWzFI5s",
        "colab_type": "text"
      },
      "source": [
        "Библиотека pandas также может извлекать данные из веб-страниц."
      ]
    },
    {
      "cell_type": "markdown",
      "metadata": {
        "id": "FZ1-jgj4GBxa",
        "colab_type": "text"
      },
      "source": [
        "Извлечём таблицу с индексом деловой активности в производственном секторе США с портала mfd.ru."
      ]
    },
    {
      "cell_type": "markdown",
      "metadata": {
        "id": "-SmcFfrHGQOL",
        "colab_type": "text"
      },
      "source": [
        "Индекс деловой активности менеджеров по снабжению в производственном секторе США, рассчитываемый Институтом управления поставками (ISM). Отражает состояние деловой активности в обрабатывающей промышленности страны. Показатель базируется на основе опроса управляющих закупками и поставками 400 компаний из 20 секторов промышленности различных регионов страны, публикуется 1 раз в месяц и в дальнейшем не пересматривается. Равновесным уровнем для этого показателя выступает 50 пунктов – если индекс выше 50 пунктов, в промышленности происходит расширение деловой активности. Индекс состоит из следующих компонент: индекс новых заказов, производства, занятости, отгрузок, запасов поставщиков, запасов клиентов, цен, невыполненных заказов, новых экспортных заказов, импорта (mfd.ru.)."
      ]
    },
    {
      "cell_type": "code",
      "metadata": {
        "id": "RAlIPEdjl3F0",
        "colab_type": "code",
        "colab": {}
      },
      "source": [
        "import pandas as pd"
      ],
      "execution_count": null,
      "outputs": []
    },
    {
      "cell_type": "code",
      "metadata": {
        "id": "H1S9PrHl1F4y",
        "colab_type": "code",
        "colab": {}
      },
      "source": [
        "tables = pd.read_html(\"https://mfd.ru/calendar/details/?id=20\")"
      ],
      "execution_count": null,
      "outputs": []
    },
    {
      "cell_type": "code",
      "metadata": {
        "id": "2bZBfFWDGZz_",
        "colab_type": "code",
        "colab": {
          "base_uri": "https://localhost:8080/",
          "height": 34
        },
        "outputId": "b5716387-3db0-418a-b124-d2bce75d4c09"
      },
      "source": [
        "len(tables)"
      ],
      "execution_count": null,
      "outputs": [
        {
          "output_type": "execute_result",
          "data": {
            "text/plain": [
              "2"
            ]
          },
          "metadata": {
            "tags": []
          },
          "execution_count": 3
        }
      ]
    },
    {
      "cell_type": "code",
      "metadata": {
        "id": "x9DrQ7g34Zbp",
        "colab_type": "code",
        "colab": {
          "base_uri": "https://localhost:8080/",
          "height": 419
        },
        "outputId": "cf200d92-0d41-4059-aef9-ae90d84ce8e9"
      },
      "source": [
        "# Pandas извлекла список из 2 таблиц, нам интересна вторая таблица.\n",
        "tables[1]"
      ],
      "execution_count": null,
      "outputs": [
        {
          "output_type": "execute_result",
          "data": {
            "text/html": [
              "<div>\n",
              "<style scoped>\n",
              "    .dataframe tbody tr th:only-of-type {\n",
              "        vertical-align: middle;\n",
              "    }\n",
              "\n",
              "    .dataframe tbody tr th {\n",
              "        vertical-align: top;\n",
              "    }\n",
              "\n",
              "    .dataframe thead th {\n",
              "        text-align: right;\n",
              "    }\n",
              "</style>\n",
              "<table border=\"1\" class=\"dataframe\">\n",
              "  <thead>\n",
              "    <tr style=\"text-align: right;\">\n",
              "      <th></th>\n",
              "      <th>Время (мск)</th>\n",
              "      <th>Период</th>\n",
              "      <th>Значение</th>\n",
              "      <th>Прогноз</th>\n",
              "      <th>Предыдущее</th>\n",
              "      <th>Пересм. с</th>\n",
              "    </tr>\n",
              "  </thead>\n",
              "  <tbody>\n",
              "    <tr>\n",
              "      <th>0</th>\n",
              "      <td>01.07.2020, 17:00</td>\n",
              "      <td>июнь</td>\n",
              "      <td>52.6</td>\n",
              "      <td>49.5</td>\n",
              "      <td>43.1</td>\n",
              "      <td>NaN</td>\n",
              "    </tr>\n",
              "    <tr>\n",
              "      <th>1</th>\n",
              "      <td>01.06.2020, 17:00</td>\n",
              "      <td>май</td>\n",
              "      <td>43.1</td>\n",
              "      <td>43.5</td>\n",
              "      <td>41.5</td>\n",
              "      <td>NaN</td>\n",
              "    </tr>\n",
              "    <tr>\n",
              "      <th>2</th>\n",
              "      <td>01.05.2020, 17:00</td>\n",
              "      <td>апрель</td>\n",
              "      <td>41.5</td>\n",
              "      <td>36.7</td>\n",
              "      <td>49.1</td>\n",
              "      <td>NaN</td>\n",
              "    </tr>\n",
              "    <tr>\n",
              "      <th>3</th>\n",
              "      <td>01.04.2020, 17:00</td>\n",
              "      <td>март</td>\n",
              "      <td>49.1</td>\n",
              "      <td>44.9</td>\n",
              "      <td>50.1</td>\n",
              "      <td>NaN</td>\n",
              "    </tr>\n",
              "    <tr>\n",
              "      <th>4</th>\n",
              "      <td>02.03.2020, 18:00</td>\n",
              "      <td>февраль</td>\n",
              "      <td>50.1</td>\n",
              "      <td>50.5</td>\n",
              "      <td>50.9</td>\n",
              "      <td>NaN</td>\n",
              "    </tr>\n",
              "    <tr>\n",
              "      <th>...</th>\n",
              "      <td>...</td>\n",
              "      <td>...</td>\n",
              "      <td>...</td>\n",
              "      <td>...</td>\n",
              "      <td>...</td>\n",
              "      <td>...</td>\n",
              "    </tr>\n",
              "    <tr>\n",
              "      <th>157</th>\n",
              "      <td>02.04.2007, 18:00</td>\n",
              "      <td>март</td>\n",
              "      <td>50.9</td>\n",
              "      <td>51.3</td>\n",
              "      <td>52.3</td>\n",
              "      <td>NaN</td>\n",
              "    </tr>\n",
              "    <tr>\n",
              "      <th>158</th>\n",
              "      <td>01.03.2007, 18:00</td>\n",
              "      <td>февраль</td>\n",
              "      <td>52.3</td>\n",
              "      <td>50.0</td>\n",
              "      <td>49.3</td>\n",
              "      <td>NaN</td>\n",
              "    </tr>\n",
              "    <tr>\n",
              "      <th>159</th>\n",
              "      <td>01.02.2007, 18:00</td>\n",
              "      <td>январь</td>\n",
              "      <td>49.3</td>\n",
              "      <td>51.6</td>\n",
              "      <td>51.4</td>\n",
              "      <td>NaN</td>\n",
              "    </tr>\n",
              "    <tr>\n",
              "      <th>160</th>\n",
              "      <td>03.01.2007, 18:00</td>\n",
              "      <td>декабрь</td>\n",
              "      <td>51.4</td>\n",
              "      <td>51.0</td>\n",
              "      <td>49.5</td>\n",
              "      <td>NaN</td>\n",
              "    </tr>\n",
              "    <tr>\n",
              "      <th>161</th>\n",
              "      <td>Время (мск)</td>\n",
              "      <td>Период</td>\n",
              "      <td>Значение</td>\n",
              "      <td>Прогноз</td>\n",
              "      <td>Предыдущее</td>\n",
              "      <td>Пересм. с</td>\n",
              "    </tr>\n",
              "  </tbody>\n",
              "</table>\n",
              "<p>162 rows × 6 columns</p>\n",
              "</div>"
            ],
            "text/plain": [
              "           Время (мск)   Период  Значение  Прогноз  Предыдущее  Пересм. с\n",
              "0    01.07.2020, 17:00     июнь      52.6     49.5        43.1        NaN\n",
              "1    01.06.2020, 17:00      май      43.1     43.5        41.5        NaN\n",
              "2    01.05.2020, 17:00   апрель      41.5     36.7        49.1        NaN\n",
              "3    01.04.2020, 17:00     март      49.1     44.9        50.1        NaN\n",
              "4    02.03.2020, 18:00  февраль      50.1     50.5        50.9        NaN\n",
              "..                 ...      ...       ...      ...         ...        ...\n",
              "157  02.04.2007, 18:00     март      50.9     51.3        52.3        NaN\n",
              "158  01.03.2007, 18:00  февраль      52.3     50.0        49.3        NaN\n",
              "159  01.02.2007, 18:00   январь      49.3     51.6        51.4        NaN\n",
              "160  03.01.2007, 18:00  декабрь      51.4     51.0        49.5        NaN\n",
              "161        Время (мск)   Период  Значение  Прогноз  Предыдущее  Пересм. с\n",
              "\n",
              "[162 rows x 6 columns]"
            ]
          },
          "metadata": {
            "tags": []
          },
          "execution_count": 4
        }
      ]
    },
    {
      "cell_type": "code",
      "metadata": {
        "id": "wy_2hntNyIt2",
        "colab_type": "code",
        "colab": {}
      },
      "source": [
        "df = tables[1]"
      ],
      "execution_count": null,
      "outputs": []
    },
    {
      "cell_type": "code",
      "metadata": {
        "id": "jLv9wVlUANVn",
        "colab_type": "code",
        "colab": {}
      },
      "source": [
        "df = df.drop([161])     #  Удалим 161 строку"
      ],
      "execution_count": null,
      "outputs": []
    },
    {
      "cell_type": "code",
      "metadata": {
        "id": "N-QgBs3R_9yK",
        "colab_type": "code",
        "colab": {
          "base_uri": "https://localhost:8080/",
          "height": 173
        },
        "outputId": "70c8a27e-0f06-418b-fd77-0d293307d31b"
      },
      "source": [
        "df.describe()"
      ],
      "execution_count": null,
      "outputs": [
        {
          "output_type": "execute_result",
          "data": {
            "text/html": [
              "<div>\n",
              "<style scoped>\n",
              "    .dataframe tbody tr th:only-of-type {\n",
              "        vertical-align: middle;\n",
              "    }\n",
              "\n",
              "    .dataframe tbody tr th {\n",
              "        vertical-align: top;\n",
              "    }\n",
              "\n",
              "    .dataframe thead th {\n",
              "        text-align: right;\n",
              "    }\n",
              "</style>\n",
              "<table border=\"1\" class=\"dataframe\">\n",
              "  <thead>\n",
              "    <tr style=\"text-align: right;\">\n",
              "      <th></th>\n",
              "      <th>Время (мск)</th>\n",
              "      <th>Период</th>\n",
              "      <th>Значение</th>\n",
              "      <th>Прогноз</th>\n",
              "      <th>Предыдущее</th>\n",
              "      <th>Пересм. с</th>\n",
              "    </tr>\n",
              "  </thead>\n",
              "  <tbody>\n",
              "    <tr>\n",
              "      <th>count</th>\n",
              "      <td>161</td>\n",
              "      <td>161</td>\n",
              "      <td>161</td>\n",
              "      <td>160</td>\n",
              "      <td>160</td>\n",
              "      <td>4</td>\n",
              "    </tr>\n",
              "    <tr>\n",
              "      <th>unique</th>\n",
              "      <td>161</td>\n",
              "      <td>12</td>\n",
              "      <td>102</td>\n",
              "      <td>99</td>\n",
              "      <td>102</td>\n",
              "      <td>4</td>\n",
              "    </tr>\n",
              "    <tr>\n",
              "      <th>top</th>\n",
              "      <td>01.08.2017, 17:00</td>\n",
              "      <td>февраль</td>\n",
              "      <td>50.9</td>\n",
              "      <td>54.2</td>\n",
              "      <td>53.5</td>\n",
              "      <td>50.7</td>\n",
              "    </tr>\n",
              "    <tr>\n",
              "      <th>freq</th>\n",
              "      <td>1</td>\n",
              "      <td>14</td>\n",
              "      <td>5</td>\n",
              "      <td>6</td>\n",
              "      <td>4</td>\n",
              "      <td>1</td>\n",
              "    </tr>\n",
              "  </tbody>\n",
              "</table>\n",
              "</div>"
            ],
            "text/plain": [
              "              Время (мск)   Период Значение Прогноз Предыдущее Пересм. с\n",
              "count                 161      161      161     160        160         4\n",
              "unique                161       12      102      99        102         4\n",
              "top     01.08.2017, 17:00  февраль     50.9    54.2       53.5      50.7\n",
              "freq                    1       14        5       6          4         1"
            ]
          },
          "metadata": {
            "tags": []
          },
          "execution_count": 7
        }
      ]
    },
    {
      "cell_type": "code",
      "metadata": {
        "id": "LxrvalOpYDFN",
        "colab_type": "code",
        "colab": {}
      },
      "source": [
        "# В столбце \"Прогноз\" отсутствует одно значение, заполним его."
      ],
      "execution_count": null,
      "outputs": []
    },
    {
      "cell_type": "code",
      "metadata": {
        "id": "wVXxXv-TAedJ",
        "colab_type": "code",
        "colab": {}
      },
      "source": [
        "# Изменим тип данных иследуемых переменных на float.\n",
        "df[['Значение', 'Прогноз']] = df[['Значение', 'Прогноз']].astype(float)"
      ],
      "execution_count": null,
      "outputs": []
    },
    {
      "cell_type": "code",
      "metadata": {
        "id": "EIXQQ85lXfYZ",
        "colab_type": "code",
        "colab": {}
      },
      "source": [
        "# Заполним пропуски медианными значениями.\n",
        "df[['Значение', 'Прогноз']] = df[['Значение', 'Прогноз']].fillna(df[['Значение', 'Прогноз']].median(axis=0), axis=0)"
      ],
      "execution_count": null,
      "outputs": []
    },
    {
      "cell_type": "code",
      "metadata": {
        "id": "cjaPGZ2QXo_S",
        "colab_type": "code",
        "colab": {
          "base_uri": "https://localhost:8080/",
          "height": 297
        },
        "outputId": "832b0d85-b538-4abc-f5f7-57cc249f32a2"
      },
      "source": [
        "df.describe()"
      ],
      "execution_count": null,
      "outputs": [
        {
          "output_type": "execute_result",
          "data": {
            "text/html": [
              "<div>\n",
              "<style scoped>\n",
              "    .dataframe tbody tr th:only-of-type {\n",
              "        vertical-align: middle;\n",
              "    }\n",
              "\n",
              "    .dataframe tbody tr th {\n",
              "        vertical-align: top;\n",
              "    }\n",
              "\n",
              "    .dataframe thead th {\n",
              "        text-align: right;\n",
              "    }\n",
              "</style>\n",
              "<table border=\"1\" class=\"dataframe\">\n",
              "  <thead>\n",
              "    <tr style=\"text-align: right;\">\n",
              "      <th></th>\n",
              "      <th>Значение</th>\n",
              "      <th>Прогноз</th>\n",
              "    </tr>\n",
              "  </thead>\n",
              "  <tbody>\n",
              "    <tr>\n",
              "      <th>count</th>\n",
              "      <td>161.000000</td>\n",
              "      <td>161.000000</td>\n",
              "    </tr>\n",
              "    <tr>\n",
              "      <th>mean</th>\n",
              "      <td>52.809317</td>\n",
              "      <td>52.576398</td>\n",
              "    </tr>\n",
              "    <tr>\n",
              "      <th>std</th>\n",
              "      <td>5.307987</td>\n",
              "      <td>5.212947</td>\n",
              "    </tr>\n",
              "    <tr>\n",
              "      <th>min</th>\n",
              "      <td>32.400000</td>\n",
              "      <td>32.400000</td>\n",
              "    </tr>\n",
              "    <tr>\n",
              "      <th>25%</th>\n",
              "      <td>50.600000</td>\n",
              "      <td>50.500000</td>\n",
              "    </tr>\n",
              "    <tr>\n",
              "      <th>50%</th>\n",
              "      <td>53.100000</td>\n",
              "      <td>53.100000</td>\n",
              "    </tr>\n",
              "    <tr>\n",
              "      <th>75%</th>\n",
              "      <td>56.300000</td>\n",
              "      <td>56.100000</td>\n",
              "    </tr>\n",
              "    <tr>\n",
              "      <th>max</th>\n",
              "      <td>61.400000</td>\n",
              "      <td>61.100000</td>\n",
              "    </tr>\n",
              "  </tbody>\n",
              "</table>\n",
              "</div>"
            ],
            "text/plain": [
              "         Значение     Прогноз\n",
              "count  161.000000  161.000000\n",
              "mean    52.809317   52.576398\n",
              "std      5.307987    5.212947\n",
              "min     32.400000   32.400000\n",
              "25%     50.600000   50.500000\n",
              "50%     53.100000   53.100000\n",
              "75%     56.300000   56.100000\n",
              "max     61.400000   61.100000"
            ]
          },
          "metadata": {
            "tags": []
          },
          "execution_count": 11
        }
      ]
    },
    {
      "cell_type": "code",
      "metadata": {
        "id": "YPe-oLAsTTqp",
        "colab_type": "code",
        "colab": {}
      },
      "source": [
        "import matplotlib.pyplot as plt"
      ],
      "execution_count": null,
      "outputs": []
    },
    {
      "cell_type": "code",
      "metadata": {
        "id": "9AL8PYhK9hZp",
        "colab_type": "code",
        "colab": {
          "base_uri": "https://localhost:8080/",
          "height": 390
        },
        "outputId": "5a67b5a6-78e3-4f5a-b4d0-14437d56588d"
      },
      "source": [
        "# Гистограмма частот.\n",
        "\n",
        "plt.figure(figsize=(15, 6))\n",
        "plt.subplot(131)\n",
        "plt.title('Значение')\n",
        "df['Значение'].plot.hist(alpha = 0.5)\n",
        "plt.subplot(132)\n",
        "plt.title('Прогноз')\n",
        "df['Прогноз'].plot.hist(alpha = 0.5)\n",
        "plt.show()"
      ],
      "execution_count": null,
      "outputs": [
        {
          "output_type": "display_data",
          "data": {
            "image/png": "[encoded data removed]",
            "text/plain": [
              "<Figure size 1080x432 with 2 Axes>"
            ]
          },
          "metadata": {
            "tags": [],
            "needs_background": "light"
          }
        }
      ]
    },
    {
      "cell_type": "code",
      "metadata": {
        "id": "uNgVg02s9omk",
        "colab_type": "code",
        "colab": {
          "base_uri": "https://localhost:8080/",
          "height": 374
        },
        "outputId": "c3518419-8e3f-4b71-82af-ae2173bfa6b2"
      },
      "source": [
        "# Box plot.\n",
        "plt.figure(figsize=(15, 6))\n",
        "plt.subplot(131)\n",
        "df['Значение'].plot.box()\n",
        "plt.subplot(132)\n",
        "df['Прогноз'].plot.box()\n",
        "plt.show()"
      ],
      "execution_count": null,
      "outputs": [
        {
          "output_type": "display_data",
          "data": {
            "image/png": "[encoded data removed]",
            "text/plain": [
              "<Figure size 1080x432 with 2 Axes>"
            ]
          },
          "metadata": {
            "tags": [],
            "needs_background": "light"
          }
        }
      ]
    },
    {
      "cell_type": "code",
      "metadata": {
        "id": "iG8rbClq6SAY",
        "colab_type": "code",
        "colab": {}
      },
      "source": [
        "# Найдём среднее значение, 95%-доверительный интервал, стандартное отклонение по столбцу \"Значение\"."
      ],
      "execution_count": null,
      "outputs": []
    },
    {
      "cell_type": "code",
      "metadata": {
        "id": "oDsIwuiXE1Io",
        "colab_type": "code",
        "colab": {}
      },
      "source": [
        "import numpy as np\n",
        "import scipy as sp\n",
        "import scipy.stats"
      ],
      "execution_count": null,
      "outputs": []
    },
    {
      "cell_type": "code",
      "metadata": {
        "id": "wCwktldCWGVQ",
        "colab_type": "code",
        "colab": {}
      },
      "source": [
        "# Для этого напишем функцию.\n",
        "def func(data, confidence=0.95):\n",
        "       a = 1.0 * np.array(data)\n",
        "       n = len(a)\n",
        "       mu, sigma = scipy.stats.norm.fit(data)\n",
        "       SEM = sigma/np.sqrt(n - 1)\n",
        "       h = 1.96 * SEM\n",
        "       return mu, sigma, mu-h, mu+h"
      ],
      "execution_count": null,
      "outputs": []
    },
    {
      "cell_type": "code",
      "metadata": {
        "id": "okADwA0V1GER",
        "colab_type": "code",
        "colab": {
          "base_uri": "https://localhost:8080/",
          "height": 68
        },
        "outputId": "2e38406a-8368-4371-d28a-0cc538a5cf07"
      },
      "source": [
        "# Найдем среднее и его доверительный 95% интервал.\n",
        "values = func(df['Значение'])\n",
        "print('Мат. ожидание:', values[0])\n",
        "print('Стандартное отклонение:', values[1])\n",
        "print('95%-доверительный интервал:', values[2:])"
      ],
      "execution_count": null,
      "outputs": [
        {
          "output_type": "stream",
          "text": [
            "Мат. ожидание: 52.80931677018633\n",
            "Стандартное отклонение: 5.291476812987994\n",
            "95%-доверительный интервал: (51.98939394335079, 53.629239597021865)\n"
          ],
          "name": "stdout"
        }
      ]
    },
    {
      "cell_type": "code",
      "metadata": {
        "id": "562E8MVa40tV",
        "colab_type": "code",
        "colab": {}
      },
      "source": [
        "# Посмотрим на форму распределения по столбцам \"Значение\" и \"Прогноз\", для этого используем библиотеку seaborn.\n",
        "import seaborn as sns"
      ],
      "execution_count": null,
      "outputs": []
    },
    {
      "cell_type": "code",
      "metadata": {
        "id": "88CkJ0q4454h",
        "colab_type": "code",
        "colab": {
          "base_uri": "https://localhost:8080/",
          "height": 457
        },
        "outputId": "000f2d0c-e7ff-45bf-e45c-961353802d6a"
      },
      "source": [
        "plt.style.use('classic')\n",
        "plt.style.use('seaborn-whitegrid')\n",
        "\n",
        "plt.figure(figsize=(15, 6))\n",
        "plt.subplot(131)\n",
        "sns_plot = sns.distplot(df['Значение'])\n",
        "fig = sns_plot.get_figure()\n",
        "plt.subplot(132)\n",
        "sns_plot = sns.distplot(df['Прогноз'])\n",
        "fig = sns_plot.get_figure()\n",
        "plt.show()"
      ],
      "execution_count": null,
      "outputs": [
        {
          "output_type": "display_data",
          "data": {
            "image/png": "[encoded data removed]",
            "text/plain": [
              "<Figure size 1200x480 with 2 Axes>"
            ]
          },
          "metadata": {
            "tags": []
          }
        }
      ]
    },
    {
      "cell_type": "markdown",
      "metadata": {
        "id": "CTybZ2cqAZjz",
        "colab_type": "text"
      },
      "source": [
        "# Корреляция Пирсона. \n",
        "\n"
      ]
    },
    {
      "cell_type": "markdown",
      "metadata": {
        "id": "y4UFqjZiAUGI",
        "colab_type": "text"
      },
      "source": [
        "Корреляция Пирсона представляет собой меру зависимости переменных. Коэффициент корреляции Пирсона r называется также линейной корреляцией, т.к. измеряет степень линейных связей между переменными.При вычислении корреляции Пирсона предполагается, что переменные измерены, как минимум, в интервальной шкале. Некоторые другие коэффициенты корреляции могут быть вычислены для менее информативных шкал. Коэффициенты корреляции изменяются в пределах от -1.00 до +1.00. Обратите внимание на крайние значения коэффициента корреляции. Значение -1.00 означает, что переменные имеют строгую отрицательную корреляцию. Значение +1.00 означает, что переменные имеют строгую положительную корреляцию. Отметим, что значение 0.00 означает отсутствие корреляции. Корреляция Пирсона (далее называемая просто корреляцией) предполагает, что две рассматриваемые переменные измерены, по крайней мере, в интервальной шкале (см. Элементарные понятия статистики). Она определяет степень, с которой значения двух переменных \"пропорциональны\" друг другу."
      ]
    },
    {
      "cell_type": "code",
      "metadata": {
        "id": "6VbDqrhHTQqz",
        "colab_type": "code",
        "colab": {
          "base_uri": "https://localhost:8080/",
          "height": 51
        },
        "outputId": "bbf754fd-dbcc-4faf-c537-5e9948c8cd51"
      },
      "source": [
        "# Вычислим корреляцию Пирсона для столбцов \"Значение\" и \"Прогноз\".\n",
        "r, p = scipy.stats.pearsonr(df['Значение'], df['Прогноз'])\n",
        "print('Коэффициент корреляции:', r)\n",
        "print('            Значимость:', p)"
      ],
      "execution_count": null,
      "outputs": [
        {
          "output_type": "stream",
          "text": [
            "Коэффициент корреляции: 0.9385542414973725\n",
            "            Значимость: 2.329912872357373e-75\n"
          ],
          "name": "stdout"
        }
      ]
    },
    {
      "cell_type": "markdown",
      "metadata": {
        "id": "plhUOmZ9Bd4Y",
        "colab_type": "text"
      },
      "source": [
        "Коэффициент корреляции представляет собой меру линейной зависимости двух переменных.\n",
        "Значимость, вычисленная для каждой корреляции, представляет собой главный источник информации о надежности корреляции.Значимость коэффициента корреляции говорит нам о том значима ли эта взаимосвязь. Обычно во многих областях результат <=0.05 является приемлемой границей статистической значимости, однако следует помнить, что этот уровень все еще включает довольно большую вероятность ошибки (5%). Результаты, значимые на уровне p <= 0.01 обычно рассматриваются как статистически значимые, а результаты с уровнем p <= 0.005 или p <= 0.001 как высоко значимые. Однако следует понимать, что данная классификация уровней значимости достаточно произвольна и является всего лишь неформальным соглашением, принятым на основе практического опыта в той или иной области исследования.\n"
      ]
    },
    {
      "cell_type": "markdown",
      "metadata": {
        "id": "KLQfIJdTJrnw",
        "colab_type": "text"
      },
      "source": [
        "Диаграмма рассеяния визуализирует зависимость между двумя переменными X и Y. Точки данных изображаются точками в двумерном пространстве, где оси соответствуют переменным. Две координаты (X и Y), которые определяют положение каждой точки, соответствуют значениям двух переменных для этой точки. Если две переменные сильно связаны, то множество точек данных принимает определенную форму (например, прямой линии или кривой). Если же переменные не связаны, то точки образуют \"облако\"."
      ]
    },
    {
      "cell_type": "code",
      "metadata": {
        "id": "tNfD5swRLQU3",
        "colab_type": "code",
        "colab": {
          "base_uri": "https://localhost:8080/",
          "height": 457
        },
        "outputId": "fc5b1b44-90c0-434d-b2cb-4833599055ac"
      },
      "source": [
        "# Построим диаграмму рассеяния.\n",
        "\n",
        "plt.figure(figsize=(10, 6))\n",
        "plt.scatter(df['Значение'], df['Прогноз'],alpha=0.75, color='red')\n",
        "plt.xlabel('Значение')\n",
        "plt.ylabel('Прогноз')\n",
        "plt.show()"
      ],
      "execution_count": null,
      "outputs": [
        {
          "output_type": "display_data",
          "data": {
            "image/png": "[encoded data removed]",
            "text/plain": [
              "<Figure size 800x480 with 1 Axes>"
            ]
          },
          "metadata": {
            "tags": []
          }
        }
      ]
    },
    {
      "cell_type": "markdown",
      "metadata": {
        "id": "hTB71ZIzJ3oX",
        "colab_type": "text"
      },
      "source": [
        "# Генерация псевдослучайных последовательностей."
      ]
    },
    {
      "cell_type": "markdown",
      "metadata": {
        "id": "SIK2sgZuYA4H",
        "colab_type": "text"
      },
      "source": [
        "Генераторы псевдослучайных последовательностей (PRNG) начинают со случайного числа, также известного как зерно (seed) и затем используют алгоритм для генерации псевдослучайной последовательности битов, основанных на нём."
      ]
    },
    {
      "cell_type": "code",
      "metadata": {
        "id": "7C4c3qV6X2tJ",
        "colab_type": "code",
        "colab": {}
      },
      "source": [
        "import random"
      ],
      "execution_count": null,
      "outputs": []
    },
    {
      "cell_type": "code",
      "metadata": {
        "id": "nobZTkhSYfoz",
        "colab_type": "code",
        "colab": {}
      },
      "source": [
        "# Если вы хотите чтобы эксперемент был повторяемый, то нужно зафиксировать первичное зерно random.\n",
        "random.seed(224)"
      ],
      "execution_count": null,
      "outputs": []
    },
    {
      "cell_type": "code",
      "metadata": {
        "id": "9APg0BtXY65I",
        "colab_type": "code",
        "colab": {
          "base_uri": "https://localhost:8080/",
          "height": 34
        },
        "outputId": "98e6729c-e7f9-43c6-bd9f-bb3d06ffe7bc"
      },
      "source": [
        "random.seed(224)\n",
        "random.random()     #  Возвращает случайное десятичное число с интервалом [0.0, 1.0]."
      ],
      "execution_count": null,
      "outputs": [
        {
          "output_type": "execute_result",
          "data": {
            "text/plain": [
              "0.06378348055453587"
            ]
          },
          "metadata": {
            "tags": []
          },
          "execution_count": 3
        }
      ]
    },
    {
      "cell_type": "code",
      "metadata": {
        "id": "S4y89TKiZl4C",
        "colab_type": "code",
        "colab": {
          "base_uri": "https://localhost:8080/",
          "height": 34
        },
        "outputId": "170d4710-9141-4558-9fbd-b2e3b03cac9a"
      },
      "source": [
        "#  Если повторить вызов случайного числа, то его значение не изменится т.к. \n",
        "#  значение seed зафиксировано и результат воспроизводим.\n",
        "random.seed(224)\n",
        "random.random()  "
      ],
      "execution_count": null,
      "outputs": [
        {
          "output_type": "execute_result",
          "data": {
            "text/plain": [
              "0.06378348055453587"
            ]
          },
          "metadata": {
            "tags": []
          },
          "execution_count": 4
        }
      ]
    },
    {
      "cell_type": "code",
      "metadata": {
        "id": "QtGdxc0IaBIW",
        "colab_type": "code",
        "colab": {
          "base_uri": "https://localhost:8080/",
          "height": 34
        },
        "outputId": "b154781f-0a29-4c6a-cabb-ddf5202ff46b"
      },
      "source": [
        "# Но повторно вызванное случайное значение уже изменится.\n",
        "random.random()"
      ],
      "execution_count": null,
      "outputs": [
        {
          "output_type": "execute_result",
          "data": {
            "text/plain": [
              "0.19003145742968008"
            ]
          },
          "metadata": {
            "tags": []
          },
          "execution_count": 5
        }
      ]
    },
    {
      "cell_type": "code",
      "metadata": {
        "id": "kQgXQw3FaFp-",
        "colab_type": "code",
        "colab": {
          "base_uri": "https://localhost:8080/",
          "height": 34
        },
        "outputId": "7159a355-b81b-4f54-d72d-4ec5ce5149d1"
      },
      "source": [
        "random.randint(0, 100)      #  Вернёт случайно целое число от 0 до 100.\n"
      ],
      "execution_count": null,
      "outputs": [
        {
          "output_type": "execute_result",
          "data": {
            "text/plain": [
              "9"
            ]
          },
          "metadata": {
            "tags": []
          },
          "execution_count": 6
        }
      ]
    },
    {
      "cell_type": "code",
      "metadata": {
        "id": "4dWMB-1BbtuU",
        "colab_type": "code",
        "colab": {
          "base_uri": "https://localhost:8080/",
          "height": 34
        },
        "outputId": "e0188f49-5229-4719-d9dc-068f32b7f1e6"
      },
      "source": [
        "random.uniform(500, 600)      #  Вернёт случайно десятичное число из указанного диапазона."
      ],
      "execution_count": null,
      "outputs": [
        {
          "output_type": "execute_result",
          "data": {
            "text/plain": [
              "599.1692271345975"
            ]
          },
          "metadata": {
            "tags": []
          },
          "execution_count": 7
        }
      ]
    },
    {
      "cell_type": "code",
      "metadata": {
        "id": "ZHwxOZgMcPS1",
        "colab_type": "code",
        "colab": {}
      },
      "source": [
        "names = ['Anna', 'Ivan', 'Denis', 'Elena', 'Olga', 'Bob']"
      ],
      "execution_count": null,
      "outputs": []
    },
    {
      "cell_type": "code",
      "metadata": {
        "id": "u00u7lBdcnBg",
        "colab_type": "code",
        "colab": {
          "base_uri": "https://localhost:8080/",
          "height": 35
        },
        "outputId": "a6895c07-6d38-4ce0-d28c-3626ce9f7919"
      },
      "source": [
        "random.choice(names)      #  Вернёт случайно выбранный элемент из последовательности."
      ],
      "execution_count": null,
      "outputs": [
        {
          "output_type": "execute_result",
          "data": {
            "application/vnd.google.colaboratory.intrinsic": {
              "type": "string"
            },
            "text/plain": [
              "'Ivan'"
            ]
          },
          "metadata": {
            "tags": []
          },
          "execution_count": 9
        }
      ]
    },
    {
      "cell_type": "code",
      "metadata": {
        "id": "hGR0ygIscvH5",
        "colab_type": "code",
        "colab": {
          "base_uri": "https://localhost:8080/",
          "height": 34
        },
        "outputId": "3533c949-b342-4095-a6ed-03e2d9214d32"
      },
      "source": [
        "random.choices(names, k=3)      #  Вернёт случайно выбранные элементы (k) из последовательности."
      ],
      "execution_count": null,
      "outputs": [
        {
          "output_type": "execute_result",
          "data": {
            "text/plain": [
              "['Anna', 'Bob', 'Elena']"
            ]
          },
          "metadata": {
            "tags": []
          },
          "execution_count": 10
        }
      ]
    },
    {
      "cell_type": "code",
      "metadata": {
        "id": "mnFfo72OeRrW",
        "colab_type": "code",
        "colab": {
          "base_uri": "https://localhost:8080/",
          "height": 34
        },
        "outputId": "1419b402-0b22-4c74-cf08-5752fb291de4"
      },
      "source": [
        "names"
      ],
      "execution_count": null,
      "outputs": [
        {
          "output_type": "execute_result",
          "data": {
            "text/plain": [
              "['Anna', 'Ivan', 'Denis', 'Elena', 'Olga', 'Bob']"
            ]
          },
          "metadata": {
            "tags": []
          },
          "execution_count": 11
        }
      ]
    },
    {
      "cell_type": "code",
      "metadata": {
        "id": "61k_s5BGdwHE",
        "colab_type": "code",
        "colab": {}
      },
      "source": [
        "random.shuffle(names)      #  Перемешивает на месте выбранные элементы."
      ],
      "execution_count": null,
      "outputs": []
    },
    {
      "cell_type": "code",
      "metadata": {
        "id": "IhkQEuD9eFzI",
        "colab_type": "code",
        "colab": {
          "base_uri": "https://localhost:8080/",
          "height": 34
        },
        "outputId": "a35af2cc-52f8-4155-bc52-f04da38a6b8c"
      },
      "source": [
        "names"
      ],
      "execution_count": null,
      "outputs": [
        {
          "output_type": "execute_result",
          "data": {
            "text/plain": [
              "['Elena', 'Olga', 'Bob', 'Denis', 'Anna', 'Ivan']"
            ]
          },
          "metadata": {
            "tags": []
          },
          "execution_count": 13
        }
      ]
    },
    {
      "cell_type": "code",
      "metadata": {
        "id": "YIN8rM8fpAGS",
        "colab_type": "code",
        "colab": {
          "base_uri": "https://localhost:8080/",
          "height": 102
        },
        "outputId": "c3db50f3-68d6-4ebb-a548-d82518b787b9"
      },
      "source": [
        "# Если нужно создать список из случайных значений, для этого подойдет генератор списков.\n",
        "[random.random() for _ in range(5)]"
      ],
      "execution_count": null,
      "outputs": [
        {
          "output_type": "execute_result",
          "data": {
            "text/plain": [
              "[0.10404329096978449,\n",
              " 0.822542136701891,\n",
              " 0.4180067474370368,\n",
              " 0.3529141187303778,\n",
              " 0.42046346340322427]"
            ]
          },
          "metadata": {
            "tags": []
          },
          "execution_count": 14
        }
      ]
    },
    {
      "cell_type": "code",
      "metadata": {
        "id": "XyiLgFUwrB9l",
        "colab_type": "code",
        "colab": {}
      },
      "source": [
        "import numpy as np"
      ],
      "execution_count": null,
      "outputs": []
    },
    {
      "cell_type": "code",
      "metadata": {
        "id": "n1NRej-opD3B",
        "colab_type": "code",
        "colab": {
          "base_uri": "https://localhost:8080/",
          "height": 34
        },
        "outputId": "c45e8fe0-2d2c-4a1a-c3a6-8485b74bca38"
      },
      "source": [
        "# Создадим массив случайных чисел, имеющих нормальное распределение.\n",
        "np.random.randn(5)"
      ],
      "execution_count": null,
      "outputs": [
        {
          "output_type": "execute_result",
          "data": {
            "text/plain": [
              "array([-0.55531725, -0.6245949 ,  0.99742741,  1.90166907, -1.03075175])"
            ]
          },
          "metadata": {
            "tags": []
          },
          "execution_count": 16
        }
      ]
    },
    {
      "cell_type": "code",
      "metadata": {
        "id": "qI3kFOzurATM",
        "colab_type": "code",
        "colab": {
          "base_uri": "https://localhost:8080/",
          "height": 102
        },
        "outputId": "aa5d6a88-019d-4a2d-9874-67d75114d057"
      },
      "source": [
        "np.random.randn(5, 5)"
      ],
      "execution_count": null,
      "outputs": [
        {
          "output_type": "execute_result",
          "data": {
            "text/plain": [
              "array([[-0.80403971, -1.02405998, -0.22487247,  0.68994896,  1.78945855],\n",
              "       [ 1.717678  , -0.52712632,  0.48241632, -1.2122666 , -0.3682315 ],\n",
              "       [-1.27733517,  1.10711448,  0.23120693,  0.01627591,  1.99076641],\n",
              "       [-1.0644457 ,  0.57862756, -0.86410352, -1.27065667,  1.1372002 ],\n",
              "       [ 1.01726761, -0.41642402,  0.55094113,  0.51748731,  1.30958714]])"
            ]
          },
          "metadata": {
            "tags": []
          },
          "execution_count": 17
        }
      ]
    },
    {
      "cell_type": "code",
      "metadata": {
        "id": "wiv1t3borLPG",
        "colab_type": "code",
        "colab": {
          "base_uri": "https://localhost:8080/",
          "height": 102
        },
        "outputId": "3dce0be1-fb70-4b80-eb02-7d00da1aae8a"
      },
      "source": [
        "# Создадим массив случайных целых чисел от 0 до 1000.\n",
        "np.random.randint(1000, size=(5, 5))"
      ],
      "execution_count": null,
      "outputs": [
        {
          "output_type": "execute_result",
          "data": {
            "text/plain": [
              "array([[175, 199, 722,  44, 148],\n",
              "       [545, 366, 109, 112, 277],\n",
              "       [219, 473, 646,   8, 282],\n",
              "       [392, 875,  90, 625, 365],\n",
              "       [868, 918, 495, 521, 829]])"
            ]
          },
          "metadata": {
            "tags": []
          },
          "execution_count": 18
        }
      ]
    },
    {
      "cell_type": "markdown",
      "metadata": {
        "id": "nsCCmplVKMA3",
        "colab_type": "text"
      },
      "source": [
        "# Вычисление описательных статистик, вычисление корреляций Пирсона."
      ]
    },
    {
      "cell_type": "code",
      "metadata": {
        "id": "teKXQPrM-_iC",
        "colab_type": "code",
        "colab": {
          "base_uri": "https://localhost:8080/",
          "height": 34
        },
        "outputId": "7a8816c2-4cd6-437b-d3e5-e47ecdd46baa"
      },
      "source": [
        "# Создадим массив случайных чисел, имеющих нормальное распределение.\n",
        "mu, sigma = 0, 1\n",
        "x_normal =np.random.normal(mu, sigma, 10000)\n",
        "print(max(x_normal), min(x_normal), len(x_normal))"
      ],
      "execution_count": null,
      "outputs": [
        {
          "output_type": "stream",
          "text": [
            "3.647773260786536 -3.5385817798217976 10000\n"
          ],
          "name": "stdout"
        }
      ]
    },
    {
      "cell_type": "code",
      "metadata": {
        "id": "ou_OBsuyrX0G",
        "colab_type": "code",
        "colab": {
          "base_uri": "https://localhost:8080/",
          "height": 34
        },
        "outputId": "b0d9c0ca-94c2-4afc-d5d6-c5fe48f8be56"
      },
      "source": [
        "# Создадим массив случайных чисел, имеющих равномерное распределение.\n",
        "x_1 = [random.uniform(-4, 4) for _ in range(10000)]\n",
        "print(max(x_1), min(x_1), len(x_1))"
      ],
      "execution_count": null,
      "outputs": [
        {
          "output_type": "stream",
          "text": [
            "3.9998772953404353 -3.998011450551811 10000\n"
          ],
          "name": "stdout"
        }
      ]
    },
    {
      "cell_type": "code",
      "metadata": {
        "id": "J9pL-JxJIZQr",
        "colab_type": "code",
        "colab": {}
      },
      "source": [
        "import scipy.stats"
      ],
      "execution_count": null,
      "outputs": []
    },
    {
      "cell_type": "code",
      "metadata": {
        "id": "eVyJxzNxHdmG",
        "colab_type": "code",
        "colab": {}
      },
      "source": [
        "# Функция выводит на печать мат. ожидание, стандартное отклонение, 95%-доверительный интервал.\n",
        "def func(data, confidence=0.95):\n",
        "       a = 1.0 * np.array(data)\n",
        "       n = len(a)\n",
        "       mu, sigma = scipy.stats.norm.fit(data)\n",
        "       SEM = sigma/np.sqrt(n - 1)\n",
        "       h = 1.96 * SEM\n",
        "       print('Мат. ожидание:', mu)\n",
        "       print('Стандартное отклонение:', sigma)\n",
        "       print('95%-доверительный интервал:', mu-h, mu+h)"
      ],
      "execution_count": null,
      "outputs": []
    },
    {
      "cell_type": "code",
      "metadata": {
        "id": "X8dgcf18H5x3",
        "colab_type": "code",
        "colab": {
          "base_uri": "https://localhost:8080/",
          "height": 68
        },
        "outputId": "a22cc932-f40d-40df-f18e-b5d68886b60f"
      },
      "source": [
        "func(x_normal)"
      ],
      "execution_count": null,
      "outputs": [
        {
          "output_type": "stream",
          "text": [
            "Мат. ожидание: 0.005185729633073777\n",
            "Стандартное отклонение: 0.9868823355860257\n",
            "95%-доверительный интервал: -0.014158131361643095 0.02452959062779065\n"
          ],
          "name": "stdout"
        }
      ]
    },
    {
      "cell_type": "code",
      "metadata": {
        "id": "UKkCbWGBH5dM",
        "colab_type": "code",
        "colab": {
          "base_uri": "https://localhost:8080/",
          "height": 68
        },
        "outputId": "498aa720-1269-4cb6-aaa5-b6052922794c"
      },
      "source": [
        "func(x_1)"
      ],
      "execution_count": null,
      "outputs": [
        {
          "output_type": "stream",
          "text": [
            "Мат. ожидание: -0.03268907544757795\n",
            "Стандартное отклонение: 2.3005935403190154\n",
            "95%-доверительный интервал: -0.07778296358860788 0.012404812693451978\n"
          ],
          "name": "stdout"
        }
      ]
    },
    {
      "cell_type": "code",
      "metadata": {
        "id": "xWmwd5IGsF2t",
        "colab_type": "code",
        "colab": {}
      },
      "source": [
        "import matplotlib.pyplot as plt"
      ],
      "execution_count": null,
      "outputs": []
    },
    {
      "cell_type": "code",
      "metadata": {
        "id": "SwgT80o6sP7h",
        "colab_type": "code",
        "colab": {
          "base_uri": "https://localhost:8080/",
          "height": 390
        },
        "outputId": "cee287b4-da60-4219-8206-bcdedc4001dd"
      },
      "source": [
        "# Построим boxplot.\n",
        "plt.figure(figsize=(15, 6))\n",
        "plt.subplot(131)\n",
        "plt.title('Нормальное распределение.')\n",
        "plt.boxplot(x_normal)\n",
        "plt.subplot(132)\n",
        "plt.title('Равномерное распределение.')\n",
        "plt.boxplot(x_1)\n",
        "plt.show()"
      ],
      "execution_count": null,
      "outputs": [
        {
          "output_type": "display_data",
          "data": {
            "image/png": "[encoded data removed]",
            "text/plain": [
              "<Figure size 1080x432 with 2 Axes>"
            ]
          },
          "metadata": {
            "tags": [],
            "needs_background": "light"
          }
        }
      ]
    },
    {
      "cell_type": "code",
      "metadata": {
        "id": "hnZq-12juZLF",
        "colab_type": "code",
        "colab": {}
      },
      "source": [
        "import seaborn as sns"
      ],
      "execution_count": null,
      "outputs": []
    },
    {
      "cell_type": "code",
      "metadata": {
        "id": "C7k-YIse-Ztp",
        "colab_type": "code",
        "colab": {
          "base_uri": "https://localhost:8080/",
          "height": 393
        },
        "outputId": "3a653f7e-5a4d-4535-d41f-e79a16017b1c"
      },
      "source": [
        "# Посмотрим на форму распределения.\n",
        "sns.set(rc={'figure.figsize':(10, 6)})\n",
        "sns_plot = sns.distplot(x_normal).set_title('Нормальное распределение.')\n",
        "fig = sns_plot.get_figure()"
      ],
      "execution_count": null,
      "outputs": [
        {
          "output_type": "display_data",
          "data": {
            "image/png": "[encoded data removed]",
            "text/plain": [
              "<Figure size 720x432 with 1 Axes>"
            ]
          },
          "metadata": {
            "tags": []
          }
        }
      ]
    },
    {
      "cell_type": "code",
      "metadata": {
        "id": "yOodKqrSIhpL",
        "colab_type": "code",
        "colab": {
          "base_uri": "https://localhost:8080/",
          "height": 393
        },
        "outputId": "5f1382a1-3d99-465e-cf29-762c570b916c"
      },
      "source": [
        "# Посмотрим на форму распределения.\n",
        "sns.set(rc={'figure.figsize':(10, 6)})\n",
        "sns_plot = sns.distplot(x_1).set_title('Равномерное распределение.')\n",
        "fig = sns_plot.get_figure()"
      ],
      "execution_count": null,
      "outputs": [
        {
          "output_type": "display_data",
          "data": {
            "image/png": "[encoded data removed]",
            "text/plain": [
              "<Figure size 720x432 with 1 Axes>"
            ]
          },
          "metadata": {
            "tags": []
          }
        }
      ]
    },
    {
      "cell_type": "code",
      "metadata": {
        "id": "cDwdxBT96hAM",
        "colab_type": "code",
        "colab": {
          "base_uri": "https://localhost:8080/",
          "height": 439
        },
        "outputId": "ed9ef031-2b26-4b64-a7f7-31fa1ff47d6c"
      },
      "source": [
        "plt.style.use('classic')\n",
        "plt.style.use('seaborn-whitegrid')\n",
        "sns.distplot(x_normal)\n",
        "sns.distplot(x_1)\n",
        "plt.show()"
      ],
      "execution_count": null,
      "outputs": [
        {
          "output_type": "display_data",
          "data": {
            "image/png": "[encoded data removed]",
            "text/plain": [
              "<Figure size 640x480 with 1 Axes>"
            ]
          },
          "metadata": {
            "tags": []
          }
        }
      ]
    },
    {
      "cell_type": "markdown",
      "metadata": {
        "id": "4mDPgftePpx-",
        "colab_type": "text"
      },
      "source": [
        "## Корреляция Пирсона"
      ]
    },
    {
      "cell_type": "code",
      "metadata": {
        "id": "UiI5bfSgNLns",
        "colab_type": "code",
        "colab": {}
      },
      "source": [
        "from scipy import stats\n",
        "import pandas as pd"
      ],
      "execution_count": null,
      "outputs": []
    },
    {
      "cell_type": "code",
      "metadata": {
        "id": "VIqe3JjfNMPZ",
        "colab_type": "code",
        "colab": {
          "base_uri": "https://localhost:8080/",
          "height": 34
        },
        "outputId": "7a102591-7ee9-4175-d976-626d1e239cd0"
      },
      "source": [
        "# Вычислим корреляцию Пирсона\n",
        "stats.pearsonr(x_normal, x_1)"
      ],
      "execution_count": null,
      "outputs": [
        {
          "output_type": "execute_result",
          "data": {
            "text/plain": [
              "(-0.007934100777383025, 0.42758943788753934)"
            ]
          },
          "metadata": {
            "tags": []
          },
          "execution_count": 32
        }
      ]
    },
    {
      "cell_type": "code",
      "metadata": {
        "id": "SOoei8u0MQFs",
        "colab_type": "code",
        "colab": {}
      },
      "source": [
        "# Создадим массив 10*10, нормальное распределение.\n",
        "df = pd.DataFrame(np.random.randn(10, 10), columns=['a', 'b', 'c', 'd', 'e', 'f', 'g,', 'h', 'i', 'j'])"
      ],
      "execution_count": null,
      "outputs": []
    },
    {
      "cell_type": "code",
      "metadata": {
        "id": "ybpaKVE9QPM_",
        "colab_type": "code",
        "colab": {}
      },
      "source": [
        "# Создадим для массива корреляционную матрицу.\n",
        "pearsoncorr = df.corr(method='pearson')"
      ],
      "execution_count": null,
      "outputs": []
    },
    {
      "cell_type": "code",
      "metadata": {
        "id": "LH72qEboRxl2",
        "colab_type": "code",
        "colab": {
          "base_uri": "https://localhost:8080/",
          "height": 359
        },
        "outputId": "c60f7f2a-c54a-4389-9d01-cdacb5de7bce"
      },
      "source": [
        "pearsoncorr"
      ],
      "execution_count": null,
      "outputs": [
        {
          "output_type": "execute_result",
          "data": {
            "text/html": [
              "<div>\n",
              "<style scoped>\n",
              "    .dataframe tbody tr th:only-of-type {\n",
              "        vertical-align: middle;\n",
              "    }\n",
              "\n",
              "    .dataframe tbody tr th {\n",
              "        vertical-align: top;\n",
              "    }\n",
              "\n",
              "    .dataframe thead th {\n",
              "        text-align: right;\n",
              "    }\n",
              "</style>\n",
              "<table border=\"1\" class=\"dataframe\">\n",
              "  <thead>\n",
              "    <tr style=\"text-align: right;\">\n",
              "      <th></th>\n",
              "      <th>a</th>\n",
              "      <th>b</th>\n",
              "      <th>c</th>\n",
              "      <th>d</th>\n",
              "      <th>e</th>\n",
              "      <th>f</th>\n",
              "      <th>g,</th>\n",
              "      <th>h</th>\n",
              "      <th>i</th>\n",
              "      <th>j</th>\n",
              "    </tr>\n",
              "  </thead>\n",
              "  <tbody>\n",
              "    <tr>\n",
              "      <th>a</th>\n",
              "      <td>1.000000</td>\n",
              "      <td>0.672062</td>\n",
              "      <td>0.129146</td>\n",
              "      <td>0.063596</td>\n",
              "      <td>-0.301315</td>\n",
              "      <td>-0.221528</td>\n",
              "      <td>0.330058</td>\n",
              "      <td>-0.253143</td>\n",
              "      <td>0.273819</td>\n",
              "      <td>0.013891</td>\n",
              "    </tr>\n",
              "    <tr>\n",
              "      <th>b</th>\n",
              "      <td>0.672062</td>\n",
              "      <td>1.000000</td>\n",
              "      <td>0.129544</td>\n",
              "      <td>0.245650</td>\n",
              "      <td>-0.210858</td>\n",
              "      <td>-0.387781</td>\n",
              "      <td>-0.370306</td>\n",
              "      <td>-0.413309</td>\n",
              "      <td>0.513033</td>\n",
              "      <td>-0.192486</td>\n",
              "    </tr>\n",
              "    <tr>\n",
              "      <th>c</th>\n",
              "      <td>0.129146</td>\n",
              "      <td>0.129544</td>\n",
              "      <td>1.000000</td>\n",
              "      <td>-0.102194</td>\n",
              "      <td>-0.194439</td>\n",
              "      <td>0.170658</td>\n",
              "      <td>0.315545</td>\n",
              "      <td>-0.056580</td>\n",
              "      <td>-0.077942</td>\n",
              "      <td>0.227988</td>\n",
              "    </tr>\n",
              "    <tr>\n",
              "      <th>d</th>\n",
              "      <td>0.063596</td>\n",
              "      <td>0.245650</td>\n",
              "      <td>-0.102194</td>\n",
              "      <td>1.000000</td>\n",
              "      <td>0.097829</td>\n",
              "      <td>-0.277320</td>\n",
              "      <td>-0.417764</td>\n",
              "      <td>0.658957</td>\n",
              "      <td>-0.167002</td>\n",
              "      <td>0.482275</td>\n",
              "    </tr>\n",
              "    <tr>\n",
              "      <th>e</th>\n",
              "      <td>-0.301315</td>\n",
              "      <td>-0.210858</td>\n",
              "      <td>-0.194439</td>\n",
              "      <td>0.097829</td>\n",
              "      <td>1.000000</td>\n",
              "      <td>0.428188</td>\n",
              "      <td>-0.261676</td>\n",
              "      <td>0.010346</td>\n",
              "      <td>-0.156906</td>\n",
              "      <td>0.250772</td>\n",
              "    </tr>\n",
              "    <tr>\n",
              "      <th>f</th>\n",
              "      <td>-0.221528</td>\n",
              "      <td>-0.387781</td>\n",
              "      <td>0.170658</td>\n",
              "      <td>-0.277320</td>\n",
              "      <td>0.428188</td>\n",
              "      <td>1.000000</td>\n",
              "      <td>0.079845</td>\n",
              "      <td>0.066374</td>\n",
              "      <td>-0.033750</td>\n",
              "      <td>-0.037414</td>\n",
              "    </tr>\n",
              "    <tr>\n",
              "      <th>g,</th>\n",
              "      <td>0.330058</td>\n",
              "      <td>-0.370306</td>\n",
              "      <td>0.315545</td>\n",
              "      <td>-0.417764</td>\n",
              "      <td>-0.261676</td>\n",
              "      <td>0.079845</td>\n",
              "      <td>1.000000</td>\n",
              "      <td>0.041696</td>\n",
              "      <td>-0.214430</td>\n",
              "      <td>0.137561</td>\n",
              "    </tr>\n",
              "    <tr>\n",
              "      <th>h</th>\n",
              "      <td>-0.253143</td>\n",
              "      <td>-0.413309</td>\n",
              "      <td>-0.056580</td>\n",
              "      <td>0.658957</td>\n",
              "      <td>0.010346</td>\n",
              "      <td>0.066374</td>\n",
              "      <td>0.041696</td>\n",
              "      <td>1.000000</td>\n",
              "      <td>-0.300187</td>\n",
              "      <td>0.621335</td>\n",
              "    </tr>\n",
              "    <tr>\n",
              "      <th>i</th>\n",
              "      <td>0.273819</td>\n",
              "      <td>0.513033</td>\n",
              "      <td>-0.077942</td>\n",
              "      <td>-0.167002</td>\n",
              "      <td>-0.156906</td>\n",
              "      <td>-0.033750</td>\n",
              "      <td>-0.214430</td>\n",
              "      <td>-0.300187</td>\n",
              "      <td>1.000000</td>\n",
              "      <td>-0.585846</td>\n",
              "    </tr>\n",
              "    <tr>\n",
              "      <th>j</th>\n",
              "      <td>0.013891</td>\n",
              "      <td>-0.192486</td>\n",
              "      <td>0.227988</td>\n",
              "      <td>0.482275</td>\n",
              "      <td>0.250772</td>\n",
              "      <td>-0.037414</td>\n",
              "      <td>0.137561</td>\n",
              "      <td>0.621335</td>\n",
              "      <td>-0.585846</td>\n",
              "      <td>1.000000</td>\n",
              "    </tr>\n",
              "  </tbody>\n",
              "</table>\n",
              "</div>"
            ],
            "text/plain": [
              "           a         b         c  ...         h         i         j\n",
              "a   1.000000  0.672062  0.129146  ... -0.253143  0.273819  0.013891\n",
              "b   0.672062  1.000000  0.129544  ... -0.413309  0.513033 -0.192486\n",
              "c   0.129146  0.129544  1.000000  ... -0.056580 -0.077942  0.227988\n",
              "d   0.063596  0.245650 -0.102194  ...  0.658957 -0.167002  0.482275\n",
              "e  -0.301315 -0.210858 -0.194439  ...  0.010346 -0.156906  0.250772\n",
              "f  -0.221528 -0.387781  0.170658  ...  0.066374 -0.033750 -0.037414\n",
              "g,  0.330058 -0.370306  0.315545  ...  0.041696 -0.214430  0.137561\n",
              "h  -0.253143 -0.413309 -0.056580  ...  1.000000 -0.300187  0.621335\n",
              "i   0.273819  0.513033 -0.077942  ... -0.300187  1.000000 -0.585846\n",
              "j   0.013891 -0.192486  0.227988  ...  0.621335 -0.585846  1.000000\n",
              "\n",
              "[10 rows x 10 columns]"
            ]
          },
          "metadata": {
            "tags": []
          },
          "execution_count": 37
        }
      ]
    },
    {
      "cell_type": "code",
      "metadata": {
        "id": "n0KrFbblQiil",
        "colab_type": "code",
        "colab": {
          "base_uri": "https://localhost:8080/",
          "height": 439
        },
        "outputId": "ba64e818-58cf-4b7a-a035-c3d2d2dc0037"
      },
      "source": [
        "# Посмотрим на данные по корреляции, используя цветовую карту.\n",
        "sns.heatmap(pearsoncorr, \n",
        "            xticklabels=pearsoncorr.columns,\n",
        "            yticklabels=pearsoncorr.columns,\n",
        "            cmap='RdBu_r',\n",
        "            annot=True,\n",
        "            linewidth=0.5)\n",
        "plt.show()"
      ],
      "execution_count": null,
      "outputs": [
        {
          "output_type": "display_data",
          "data": {
            "image/png": "[encoded data removed]",
            "text/plain": [
              "<Figure size 640x480 with 2 Axes>"
            ]
          },
          "metadata": {
            "tags": []
          }
        }
      ]
    },
    {
      "cell_type": "code",
      "metadata": {
        "id": "oobG6HOcQpHp",
        "colab_type": "code",
        "colab": {}
      },
      "source": [
        ""
      ],
      "execution_count": null,
      "outputs": []
    }
  ]
}